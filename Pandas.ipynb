{
 "cells": [
  {
   "cell_type": "code",
   "execution_count": 1,
   "id": "b614dc96-1563-46f1-a65a-4a7871862d5b",
   "metadata": {},
   "outputs": [],
   "source": [
    "import pandas as pd\n",
    "import numpy as np"
   ]
  },
  {
   "cell_type": "markdown",
   "id": "c3745530-d91f-4769-96c0-c2699ac43b59",
   "metadata": {},
   "source": [
    "Pandas Series "
   ]
  },
  {
   "cell_type": "code",
   "execution_count": 2,
   "id": "31d432ae-bb16-4f57-9fec-21eebeeca010",
   "metadata": {},
   "outputs": [
    {
     "data": {
      "text/plain": [
       "0     35.467\n",
       "1     63.951\n",
       "2     80.940\n",
       "3     60.665\n",
       "4    127.061\n",
       "5     64.511\n",
       "6    318.523\n",
       "dtype: float64"
      ]
     },
     "execution_count": 2,
     "metadata": {},
     "output_type": "execute_result"
    }
   ],
   "source": [
    "g7_pop = pd.Series([35.467, 63.951, 80.940, 60.665, 127.061, 64.511, 318.523])\n",
    "g7_pop"
   ]
  },
  {
   "cell_type": "code",
   "execution_count": 3,
   "id": "e65e5332-2003-40b7-9640-63dcafb4bf0e",
   "metadata": {},
   "outputs": [
    {
     "data": {
      "text/plain": [
       "0     35.467\n",
       "1     63.951\n",
       "2     80.940\n",
       "3     60.665\n",
       "4    127.061\n",
       "5     64.511\n",
       "6    318.523\n",
       "Name: G7 Population in millions, dtype: float64"
      ]
     },
     "execution_count": 3,
     "metadata": {},
     "output_type": "execute_result"
    }
   ],
   "source": [
    "g7_pop.name =\"G7 Population in millions\"\n",
    "g7_pop"
   ]
  },
  {
   "cell_type": "code",
   "execution_count": 4,
   "id": "272ed1a3-1944-4ccc-abf2-d67f6b390099",
   "metadata": {},
   "outputs": [
    {
     "data": {
      "text/plain": [
       "dtype('float64')"
      ]
     },
     "execution_count": 4,
     "metadata": {},
     "output_type": "execute_result"
    }
   ],
   "source": [
    "g7_pop.dtype\n"
   ]
  },
  {
   "cell_type": "code",
   "execution_count": 5,
   "id": "f16b2cf3-b4d3-4e98-a11f-7c2ab295497a",
   "metadata": {},
   "outputs": [
    {
     "data": {
      "text/plain": [
       "array([ 35.467,  63.951,  80.94 ,  60.665, 127.061,  64.511, 318.523])"
      ]
     },
     "execution_count": 5,
     "metadata": {},
     "output_type": "execute_result"
    }
   ],
   "source": [
    "g7_pop.values"
   ]
  },
  {
   "cell_type": "code",
   "execution_count": 6,
   "id": "7ebf902f-3c4c-4d67-89d3-53a25ebfaa15",
   "metadata": {},
   "outputs": [
    {
     "data": {
      "text/plain": [
       "numpy.ndarray"
      ]
     },
     "execution_count": 6,
     "metadata": {},
     "output_type": "execute_result"
    }
   ],
   "source": [
    "type(g7_pop.values)"
   ]
  },
  {
   "cell_type": "code",
   "execution_count": 7,
   "id": "6bb4c372-4364-4521-b398-19034968a10a",
   "metadata": {},
   "outputs": [
    {
     "data": {
      "text/plain": [
       "35.467"
      ]
     },
     "execution_count": 7,
     "metadata": {},
     "output_type": "execute_result"
    }
   ],
   "source": [
    "g7_pop[0]"
   ]
  },
  {
   "cell_type": "code",
   "execution_count": 8,
   "id": "3d2886db-a687-4a2f-b52b-eb5b29f08108",
   "metadata": {},
   "outputs": [
    {
     "data": {
      "text/plain": [
       "63.951"
      ]
     },
     "execution_count": 8,
     "metadata": {},
     "output_type": "execute_result"
    }
   ],
   "source": [
    "g7_pop[1]"
   ]
  },
  {
   "cell_type": "code",
   "execution_count": 9,
   "id": "dc64510b-2563-4eb5-a505-d366de72aff5",
   "metadata": {},
   "outputs": [
    {
     "data": {
      "text/plain": [
       "RangeIndex(start=0, stop=7, step=1)"
      ]
     },
     "execution_count": 9,
     "metadata": {},
     "output_type": "execute_result"
    }
   ],
   "source": [
    "g7_pop.index"
   ]
  },
  {
   "cell_type": "code",
   "execution_count": 10,
   "id": "44a3d3a0-9cc4-4d12-9c2b-f2c1550e9022",
   "metadata": {},
   "outputs": [],
   "source": [
    "g7_pop.index = [\"a\", \"b\", \"c\", \"d\", \"e\", \"f\", \"h\"]"
   ]
  },
  {
   "cell_type": "code",
   "execution_count": 11,
   "id": "db59fd9b-5af8-4901-86eb-c1aa3122c0bc",
   "metadata": {},
   "outputs": [
    {
     "data": {
      "text/plain": [
       "a     35.467\n",
       "b     63.951\n",
       "c     80.940\n",
       "d     60.665\n",
       "e    127.061\n",
       "f     64.511\n",
       "h    318.523\n",
       "Name: G7 Population in millions, dtype: float64"
      ]
     },
     "execution_count": 11,
     "metadata": {},
     "output_type": "execute_result"
    }
   ],
   "source": [
    "g7_pop"
   ]
  },
  {
   "cell_type": "code",
   "execution_count": 12,
   "id": "34f71c1f-5b14-4d10-bfc4-93efaf88a1aa",
   "metadata": {},
   "outputs": [
    {
     "data": {
      "text/plain": [
       "a     35.467\n",
       "b     63.951\n",
       "c     80.940\n",
       "d     60.665\n",
       "e    127.061\n",
       "f     64.511\n",
       "h    318.523\n",
       "Name: G7 Population in millions, dtype: float64"
      ]
     },
     "execution_count": 12,
     "metadata": {},
     "output_type": "execute_result"
    }
   ],
   "source": [
    "pd.Series({\"a\":35.467 \n",
    "          ,\"b\":63.951\n",
    "          ,\"c\":80.940\n",
    "          ,\"d\":60.665\n",
    "          ,\"e\":127.061\n",
    "          ,\"f\":64.511\n",
    "          ,\"h\":318.523}\n",
    "         ,name= \"G7 Population in millions\")"
   ]
  },
  {
   "cell_type": "code",
   "execution_count": 13,
   "id": "abe1a5ba-0cb3-475e-92bf-d2727d3c5d3b",
   "metadata": {},
   "outputs": [
    {
     "data": {
      "text/plain": [
       "a    35.467\n",
       "b    63.951\n",
       "c    80.940\n",
       "d    60.665\n",
       "Name: G7 Population in millions, dtype: float64"
      ]
     },
     "execution_count": 13,
     "metadata": {},
     "output_type": "execute_result"
    }
   ],
   "source": [
    "pd.Series(g7_pop, index=[\"a\",\"b\",\"c\",\"d\"])"
   ]
  },
  {
   "cell_type": "markdown",
   "id": "e56bfe07-6801-4b2b-9aa7-523dd899b151",
   "metadata": {},
   "source": [
    "Indexing"
   ]
  },
  {
   "cell_type": "code",
   "execution_count": 14,
   "id": "a681af95-1b81-4de4-9b8e-b72c53a25c12",
   "metadata": {},
   "outputs": [
    {
     "data": {
      "text/plain": [
       "a     35.467\n",
       "b     63.951\n",
       "c     80.940\n",
       "d     60.665\n",
       "e    127.061\n",
       "f     64.511\n",
       "h    318.523\n",
       "Name: G7 Population in millions, dtype: float64"
      ]
     },
     "execution_count": 14,
     "metadata": {},
     "output_type": "execute_result"
    }
   ],
   "source": [
    "g7_pop"
   ]
  },
  {
   "cell_type": "code",
   "execution_count": 15,
   "id": "4d97d31a-7b96-4902-b1ae-112edaeae6ed",
   "metadata": {},
   "outputs": [
    {
     "data": {
      "text/plain": [
       "35.467"
      ]
     },
     "execution_count": 15,
     "metadata": {},
     "output_type": "execute_result"
    }
   ],
   "source": [
    "g7_pop[\"a\"]"
   ]
  },
  {
   "cell_type": "code",
   "execution_count": 16,
   "id": "25727ca5-fc39-43a9-9a17-db86977ba6d6",
   "metadata": {},
   "outputs": [
    {
     "data": {
      "text/plain": [
       "63.951"
      ]
     },
     "execution_count": 16,
     "metadata": {},
     "output_type": "execute_result"
    }
   ],
   "source": [
    "g7_pop[\"b\"]"
   ]
  },
  {
   "cell_type": "code",
   "execution_count": 17,
   "id": "2540e658-3474-45cd-829e-d7091336bec2",
   "metadata": {},
   "outputs": [
    {
     "data": {
      "text/plain": [
       "35.467"
      ]
     },
     "execution_count": 17,
     "metadata": {},
     "output_type": "execute_result"
    }
   ],
   "source": [
    "g7_pop[0]"
   ]
  },
  {
   "cell_type": "code",
   "execution_count": 18,
   "id": "20645de9-c5ce-43a1-8344-fa8db009248d",
   "metadata": {},
   "outputs": [
    {
     "data": {
      "text/plain": [
       "35.467"
      ]
     },
     "execution_count": 18,
     "metadata": {},
     "output_type": "execute_result"
    }
   ],
   "source": [
    "# Numeric Postions can also beused , with the iloc attribute\n",
    "g7_pop.iloc[0]"
   ]
  },
  {
   "cell_type": "code",
   "execution_count": 19,
   "id": "6b85e23f-bea6-479e-82e4-58aa0ed3e126",
   "metadata": {},
   "outputs": [
    {
     "data": {
      "text/plain": [
       "318.523"
      ]
     },
     "execution_count": 19,
     "metadata": {},
     "output_type": "execute_result"
    }
   ],
   "source": [
    "g7_pop.iloc[-1]"
   ]
  },
  {
   "cell_type": "code",
   "execution_count": 20,
   "id": "28a3636a-1679-4e07-bb7c-827e1a86aa5f",
   "metadata": {},
   "outputs": [
    {
     "data": {
      "text/plain": [
       "a    35.467\n",
       "b    63.951\n",
       "Name: G7 Population in millions, dtype: float64"
      ]
     },
     "execution_count": 20,
     "metadata": {},
     "output_type": "execute_result"
    }
   ],
   "source": [
    "#select multiple elements at once:\n",
    "g7_pop[[\"a\",\"b\"]]"
   ]
  },
  {
   "cell_type": "code",
   "execution_count": 21,
   "id": "9721fa1f-0294-4e2b-a5b4-8c450c9659af",
   "metadata": {},
   "outputs": [
    {
     "data": {
      "text/plain": [
       "a    35.467\n",
       "b    63.951\n",
       "Name: G7 Population in millions, dtype: float64"
      ]
     },
     "execution_count": 21,
     "metadata": {},
     "output_type": "execute_result"
    }
   ],
   "source": [
    "g7_pop[[0,1]]"
   ]
  },
  {
   "cell_type": "code",
   "execution_count": 22,
   "id": "546f3e6a-976f-4448-b016-316c7a0a83ce",
   "metadata": {},
   "outputs": [
    {
     "data": {
      "text/plain": [
       "c     80.940\n",
       "d     60.665\n",
       "e    127.061\n",
       "f     64.511\n",
       "h    318.523\n",
       "Name: G7 Population in millions, dtype: float64"
      ]
     },
     "execution_count": 22,
     "metadata": {},
     "output_type": "execute_result"
    }
   ],
   "source": [
    "#slicing\n",
    "g7_pop[\"c\":\"h\"]"
   ]
  },
  {
   "cell_type": "markdown",
   "id": "655156e6-8164-4e4c-85f6-6535a26ca081",
   "metadata": {},
   "source": [
    "Conditional selection (boolean arrays)"
   ]
  },
  {
   "cell_type": "code",
   "execution_count": 23,
   "id": "fa1c1dcd-640e-49fb-9e59-bad719522f44",
   "metadata": {},
   "outputs": [
    {
     "data": {
      "text/plain": [
       "a    False\n",
       "b    False\n",
       "c     True\n",
       "d    False\n",
       "e     True\n",
       "f    False\n",
       "h     True\n",
       "Name: G7 Population in millions, dtype: bool"
      ]
     },
     "execution_count": 23,
     "metadata": {},
     "output_type": "execute_result"
    }
   ],
   "source": [
    "#same like numpy \n",
    "g7_pop > 70"
   ]
  },
  {
   "cell_type": "code",
   "execution_count": 24,
   "id": "183d4abc-b086-4d9f-8a03-28cb4ccdc5b8",
   "metadata": {},
   "outputs": [
    {
     "data": {
      "text/plain": [
       "c     80.940\n",
       "e    127.061\n",
       "h    318.523\n",
       "Name: G7 Population in millions, dtype: float64"
      ]
     },
     "execution_count": 24,
     "metadata": {},
     "output_type": "execute_result"
    }
   ],
   "source": [
    "g7_pop[g7_pop>70]"
   ]
  },
  {
   "cell_type": "code",
   "execution_count": 26,
   "id": "cc6080ee-3540-4b59-a77d-9ca53af5db80",
   "metadata": {},
   "outputs": [
    {
     "data": {
      "text/plain": [
       "107.30257142857144"
      ]
     },
     "execution_count": 26,
     "metadata": {},
     "output_type": "execute_result"
    }
   ],
   "source": [
    "g7_pop.mean()"
   ]
  },
  {
   "cell_type": "code",
   "execution_count": 27,
   "id": "f7996220-76b1-4e31-afb6-890946dcb777",
   "metadata": {},
   "outputs": [
    {
     "data": {
      "text/plain": [
       "e    127.061\n",
       "h    318.523\n",
       "Name: G7 Population in millions, dtype: float64"
      ]
     },
     "execution_count": 27,
     "metadata": {},
     "output_type": "execute_result"
    }
   ],
   "source": [
    "g7_pop[g7_pop > g7_pop.mean()]"
   ]
  },
  {
   "cell_type": "code",
   "execution_count": 28,
   "id": "7632c3e8-ac17-4819-9cf5-3a7641ec07ac",
   "metadata": {},
   "outputs": [
    {
     "data": {
      "text/plain": [
       "97.24996987121581"
      ]
     },
     "execution_count": 28,
     "metadata": {},
     "output_type": "execute_result"
    }
   ],
   "source": [
    "g7_pop.std()"
   ]
  },
  {
   "cell_type": "code",
   "execution_count": 31,
   "id": "687fd097-d288-4aec-8a60-9371644b1b52",
   "metadata": {},
   "outputs": [
    {
     "data": {
      "text/plain": [
       "b     63.951\n",
       "c     80.940\n",
       "d     60.665\n",
       "e    127.061\n",
       "f     64.511\n",
       "h    318.523\n",
       "Name: G7 Population in millions, dtype: float64"
      ]
     },
     "execution_count": 31,
     "metadata": {},
     "output_type": "execute_result"
    }
   ],
   "source": [
    "g7_pop[(g7_pop > g7_pop.mean() - g7_pop.std() /2) | (g7_pop > g7_pop.mean() + g7_pop.std()/2) ]"
   ]
  },
  {
   "cell_type": "markdown",
   "id": "eea20977-3dfe-4e37-b988-173516cd19d2",
   "metadata": {},
   "source": [
    "Operations and Methods"
   ]
  },
  {
   "cell_type": "code",
   "execution_count": 34,
   "id": "14dac0b1-cd61-4dcc-9ea2-1157934d8029",
   "metadata": {},
   "outputs": [
    {
     "data": {
      "text/plain": [
       "a     35467000.0\n",
       "b     63951000.0\n",
       "c     80940000.0\n",
       "d     60665000.0\n",
       "e    127061000.0\n",
       "f     64511000.0\n",
       "h    318523000.0\n",
       "Name: G7 Population in millions, dtype: float64"
      ]
     },
     "execution_count": 34,
     "metadata": {},
     "output_type": "execute_result"
    }
   ],
   "source": [
    "g7_pop * 1_000_000"
   ]
  },
  {
   "cell_type": "code",
   "execution_count": 35,
   "id": "4dea5a10-cae0-4785-8a54-b5c2592c5cd9",
   "metadata": {},
   "outputs": [
    {
     "data": {
      "text/plain": [
       "107.30257142857144"
      ]
     },
     "execution_count": 35,
     "metadata": {},
     "output_type": "execute_result"
    }
   ],
   "source": [
    "g7_pop.mean()"
   ]
  },
  {
   "cell_type": "code",
   "execution_count": 36,
   "id": "283f6e78-9585-4fdb-b94d-08ddba97e5b6",
   "metadata": {},
   "outputs": [
    {
     "data": {
      "text/plain": [
       "a    3.568603\n",
       "b    4.158117\n",
       "c    4.393708\n",
       "d    4.105367\n",
       "e    4.844667\n",
       "f    4.166836\n",
       "h    5.763695\n",
       "Name: G7 Population in millions, dtype: float64"
      ]
     },
     "execution_count": 36,
     "metadata": {},
     "output_type": "execute_result"
    }
   ],
   "source": [
    "np.log(g7_pop)"
   ]
  },
  {
   "cell_type": "code",
   "execution_count": 37,
   "id": "d3e565a8-120f-4cd4-ba06-f8efe9e7ad44",
   "metadata": {},
   "outputs": [
    {
     "data": {
      "text/plain": [
       "130.34"
      ]
     },
     "execution_count": 37,
     "metadata": {},
     "output_type": "execute_result"
    }
   ],
   "source": [
    "g7_pop[\"c\":\"h\"].mean()"
   ]
  },
  {
   "cell_type": "markdown",
   "id": "6efaf351-65c4-4a6b-bbc9-165c6f0afd68",
   "metadata": {},
   "source": [
    "Boolean Array"
   ]
  },
  {
   "cell_type": "code",
   "execution_count": 38,
   "id": "6398d5f1-9341-42df-b7e6-20ca2fc7cd40",
   "metadata": {},
   "outputs": [
    {
     "data": {
      "text/plain": [
       "c     80.940\n",
       "e    127.061\n",
       "h    318.523\n",
       "Name: G7 Population in millions, dtype: float64"
      ]
     },
     "execution_count": 38,
     "metadata": {},
     "output_type": "execute_result"
    }
   ],
   "source": [
    "g7_pop[g7_pop > 80]"
   ]
  },
  {
   "cell_type": "code",
   "execution_count": 40,
   "id": "fed2fe8d-3545-40a0-8441-04ea0d63f789",
   "metadata": {},
   "outputs": [
    {
     "data": {
      "text/plain": [
       "a     35.467\n",
       "c     80.940\n",
       "e    127.061\n",
       "h    318.523\n",
       "Name: G7 Population in millions, dtype: float64"
      ]
     },
     "execution_count": 40,
     "metadata": {},
     "output_type": "execute_result"
    }
   ],
   "source": [
    "g7_pop[(g7_pop > 80) | (g7_pop < 40)]"
   ]
  },
  {
   "cell_type": "code",
   "execution_count": 41,
   "id": "2dd30736-c7bb-42b8-a92b-213f66a58f2f",
   "metadata": {},
   "outputs": [
    {
     "data": {
      "text/plain": [
       "c     80.940\n",
       "e    127.061\n",
       "Name: G7 Population in millions, dtype: float64"
      ]
     },
     "execution_count": 41,
     "metadata": {},
     "output_type": "execute_result"
    }
   ],
   "source": [
    "g7_pop[(g7_pop > 80) & (g7_pop < 200)]"
   ]
  },
  {
   "cell_type": "markdown",
   "id": "4586d29a-eb50-4ef1-aa0a-f2f6e4aeeca3",
   "metadata": {},
   "source": [
    "Modify Series "
   ]
  },
  {
   "cell_type": "code",
   "execution_count": 42,
   "id": "d03483b9-ad3f-4d86-9493-ca40ed33b816",
   "metadata": {},
   "outputs": [
    {
     "data": {
      "text/plain": [
       "a     35.467\n",
       "b     63.951\n",
       "c     80.940\n",
       "d     60.665\n",
       "e    127.061\n",
       "f     64.511\n",
       "h    318.523\n",
       "Name: G7 Population in millions, dtype: float64"
      ]
     },
     "execution_count": 42,
     "metadata": {},
     "output_type": "execute_result"
    }
   ],
   "source": [
    "g7_pop"
   ]
  },
  {
   "cell_type": "code",
   "execution_count": 43,
   "id": "826de65c-c4d0-4f22-bb93-5448503fe043",
   "metadata": {},
   "outputs": [],
   "source": [
    "g7_pop[\"a\"]= 40.55"
   ]
  },
  {
   "cell_type": "code",
   "execution_count": 44,
   "id": "013bdbba-28ae-4b88-99cd-78ae5eaec6a2",
   "metadata": {},
   "outputs": [],
   "source": [
    "g7_pop.iloc[-1]=250.54"
   ]
  },
  {
   "cell_type": "code",
   "execution_count": 45,
   "id": "89459163-31ba-4160-b37b-39b3a837c440",
   "metadata": {},
   "outputs": [
    {
     "data": {
      "text/plain": [
       "a     40.550\n",
       "b     63.951\n",
       "c     80.940\n",
       "d     60.665\n",
       "e    127.061\n",
       "f     64.511\n",
       "h    250.540\n",
       "Name: G7 Population in millions, dtype: float64"
      ]
     },
     "execution_count": 45,
     "metadata": {},
     "output_type": "execute_result"
    }
   ],
   "source": [
    "g7_pop"
   ]
  },
  {
   "cell_type": "code",
   "execution_count": 46,
   "id": "07496025-706e-462d-934b-51e5493f9a2b",
   "metadata": {},
   "outputs": [],
   "source": [
    "g7_pop[g7_pop < 50] = 99.99"
   ]
  },
  {
   "cell_type": "code",
   "execution_count": 47,
   "id": "b37b7c79-5927-4bcf-9659-30c8f452ec27",
   "metadata": {},
   "outputs": [
    {
     "data": {
      "text/plain": [
       "a     99.990\n",
       "b     63.951\n",
       "c     80.940\n",
       "d     60.665\n",
       "e    127.061\n",
       "f     64.511\n",
       "h    250.540\n",
       "Name: G7 Population in millions, dtype: float64"
      ]
     },
     "execution_count": 47,
     "metadata": {},
     "output_type": "execute_result"
    }
   ],
   "source": [
    "g7_pop"
   ]
  },
  {
   "cell_type": "code",
   "execution_count": null,
   "id": "8fbcffa7-aa9b-4b6a-bf1b-dd0140c1608a",
   "metadata": {},
   "outputs": [],
   "source": []
  }
 ],
 "metadata": {
  "kernelspec": {
   "display_name": "Python 3 (ipykernel)",
   "language": "python",
   "name": "python3"
  },
  "language_info": {
   "codemirror_mode": {
    "name": "ipython",
    "version": 3
   },
   "file_extension": ".py",
   "mimetype": "text/x-python",
   "name": "python",
   "nbconvert_exporter": "python",
   "pygments_lexer": "ipython3",
   "version": "3.7.2rc1"
  }
 },
 "nbformat": 4,
 "nbformat_minor": 5
}
